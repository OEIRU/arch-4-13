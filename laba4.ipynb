{
 "cells": [
  {
   "cell_type": "code",
   "execution_count": 2,
   "id": "5bf840b7",
   "metadata": {},
   "outputs": [
    {
     "ename": "FileNotFoundError",
     "evalue": "[Errno 2] No such file or directory: 'boot622.IMA'",
     "output_type": "error",
     "traceback": [
      "\u001b[1;31m---------------------------------------------------------------------------\u001b[0m",
      "\u001b[1;31mFileNotFoundError\u001b[0m                         Traceback (most recent call last)",
      "Cell \u001b[1;32mIn[2], line 19\u001b[0m\n\u001b[0;32m     16\u001b[0m         \u001b[38;5;28;01melse\u001b[39;00m:\n\u001b[0;32m     17\u001b[0m             \u001b[38;5;28mprint\u001b[39m(curr_f[\u001b[38;5;241m0\u001b[39m:\u001b[38;5;241m11\u001b[39m])\n\u001b[1;32m---> 19\u001b[0m file \u001b[38;5;241m=\u001b[39m \u001b[38;5;28;43mopen\u001b[39;49m\u001b[43m(\u001b[49m\u001b[38;5;124;43m'\u001b[39;49m\u001b[38;5;124;43mboot622.IMA\u001b[39;49m\u001b[38;5;124;43m'\u001b[39;49m\u001b[43m,\u001b[49m\u001b[43m \u001b[49m\u001b[38;5;124;43m'\u001b[39;49m\u001b[38;5;124;43mrb\u001b[39;49m\u001b[38;5;124;43m'\u001b[39;49m\u001b[43m)\u001b[49m\n\u001b[0;32m     20\u001b[0m mft \u001b[38;5;241m=\u001b[39m file\u001b[38;5;241m.\u001b[39mread(\u001b[38;5;241m512\u001b[39m)\n\u001b[0;32m     22\u001b[0m \u001b[38;5;66;03m#считывание mft\u001b[39;00m\n",
      "File \u001b[1;32mC:\\Python312\\Lib\\site-packages\\IPython\\core\\interactiveshell.py:324\u001b[0m, in \u001b[0;36m_modified_open\u001b[1;34m(file, *args, **kwargs)\u001b[0m\n\u001b[0;32m    317\u001b[0m \u001b[38;5;28;01mif\u001b[39;00m file \u001b[38;5;129;01min\u001b[39;00m {\u001b[38;5;241m0\u001b[39m, \u001b[38;5;241m1\u001b[39m, \u001b[38;5;241m2\u001b[39m}:\n\u001b[0;32m    318\u001b[0m     \u001b[38;5;28;01mraise\u001b[39;00m \u001b[38;5;167;01mValueError\u001b[39;00m(\n\u001b[0;32m    319\u001b[0m         \u001b[38;5;124mf\u001b[39m\u001b[38;5;124m\"\u001b[39m\u001b[38;5;124mIPython won\u001b[39m\u001b[38;5;124m'\u001b[39m\u001b[38;5;124mt let you open fd=\u001b[39m\u001b[38;5;132;01m{\u001b[39;00mfile\u001b[38;5;132;01m}\u001b[39;00m\u001b[38;5;124m by default \u001b[39m\u001b[38;5;124m\"\u001b[39m\n\u001b[0;32m    320\u001b[0m         \u001b[38;5;124m\"\u001b[39m\u001b[38;5;124mas it is likely to crash IPython. If you know what you are doing, \u001b[39m\u001b[38;5;124m\"\u001b[39m\n\u001b[0;32m    321\u001b[0m         \u001b[38;5;124m\"\u001b[39m\u001b[38;5;124myou can use builtins\u001b[39m\u001b[38;5;124m'\u001b[39m\u001b[38;5;124m open.\u001b[39m\u001b[38;5;124m\"\u001b[39m\n\u001b[0;32m    322\u001b[0m     )\n\u001b[1;32m--> 324\u001b[0m \u001b[38;5;28;01mreturn\u001b[39;00m \u001b[43mio_open\u001b[49m\u001b[43m(\u001b[49m\u001b[43mfile\u001b[49m\u001b[43m,\u001b[49m\u001b[43m \u001b[49m\u001b[38;5;241;43m*\u001b[39;49m\u001b[43margs\u001b[49m\u001b[43m,\u001b[49m\u001b[43m \u001b[49m\u001b[38;5;241;43m*\u001b[39;49m\u001b[38;5;241;43m*\u001b[39;49m\u001b[43mkwargs\u001b[49m\u001b[43m)\u001b[49m\n",
      "\u001b[1;31mFileNotFoundError\u001b[0m: [Errno 2] No such file or directory: 'boot622.IMA'"
     ]
    }
   ],
   "source": [
    "from bitstring import BitArray\n",
    "import numpy as np\n",
    "\n",
    "def hexToDec(hex_num):\n",
    "    hex_num = hex_num[::-1]\n",
    "    hex_num = hex_num.hex()\n",
    "    hex_num = '0x' + hex_num\n",
    "    hex_num = BitArray(hex=hex_num)\n",
    "    return hex_num.uint\n",
    "\n",
    "def find_names(file, dir_cluster):\n",
    "    while True:\n",
    "        curr_f = file.read(32)\n",
    "        if curr_f[0:1] == b'\\x00':\n",
    "            break\n",
    "        else:\n",
    "            print(curr_f[0:11])\n",
    "        \n",
    "file = open('boot622.IMA', 'rb')\n",
    "mft = file.read(512)\n",
    "\n",
    "#считывание mft\n",
    "sector = hexToDec(mft[11:13])\n",
    "claster = hexToDec(mft[13:14])\n",
    "copies = hexToDec(mft[16:17])\n",
    "objects = hexToDec(mft[17:19])\n",
    "num_of_sectors = hexToDec(mft[19:21])\n",
    "FAT_size = hexToDec(mft[22:24])\n",
    "print(\"Загрузочная запись:\", \"\\nсектор:\", sector, \"\\nкластер:\", claster, \"\\nкопии FAT:\", copies, \"\\nобъекты:\", objects, \"\\nразмер директории:\", num_of_sectors, \"\\nразмер FAT в секторах:\", FAT_size)\n",
    "\n",
    "#вычисление объема файлов\n",
    "FAT = file.read(sector * FAT_size)\n",
    "FATarray = np.frombuffer(FAT, dtype=np.uint8)\n",
    "nonzero = np.nonzero(FATarray)[0]\n",
    "file_volume = nonzero.size * claster * sector\n",
    "print(\"Объем, занимаемый файлами:\", file_volume)\n",
    "\n",
    "\n",
    "#вывод списка файлов\n",
    "FAT = file.read(sector * FAT_size)\n",
    "find_names(file, claster + copies * FAT_size)\n",
    "\n",
    "#поиск фалй scandiskini\n",
    "file.seek((claster + copies * FAT_size) * sector)\n",
    "file_name = b'SCANDISKINI'\n",
    "address = ''\n",
    "while True:\n",
    "        curr_f = file.read(32)\n",
    "        if curr_f[0:11] == file_name:\n",
    "            volume = hexToDec(curr_f[28:32])\n",
    "            address = curr_f[20:22][::-1] + curr_f[26:28][::-1]\n",
    "            address = address[::-1]\n",
    "            address = hexToDec(address)\n",
    "            print(curr_f[0:11], address, volume)\n",
    "            break\n",
    "#вывод содержимого файла\n",
    "file.seek((claster + copies * FAT_size * claster + int(objects * 32 / sector * claster) + address - 2) * sector)\n",
    "text = file.read(volume);\n",
    "print(\"Содержимое файла:\\n\",text)\n",
    "\n",
    "file.close()"
   ]
  },
  {
   "cell_type": "code",
   "execution_count": null,
   "id": "effeabea",
   "metadata": {},
   "outputs": [],
   "source": []
  }
 ],
 "metadata": {
  "kernelspec": {
   "display_name": "Python 3 (ipykernel)",
   "language": "python",
   "name": "python3"
  },
  "language_info": {
   "codemirror_mode": {
    "name": "ipython",
    "version": 3
   },
   "file_extension": ".py",
   "mimetype": "text/x-python",
   "name": "python",
   "nbconvert_exporter": "python",
   "pygments_lexer": "ipython3",
   "version": "3.12.2"
  }
 },
 "nbformat": 4,
 "nbformat_minor": 5
}
