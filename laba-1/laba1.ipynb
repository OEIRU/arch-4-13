{
 "cells": [
  {
   "cell_type": "code",
   "execution_count": 1,
   "id": "52bafbf4",
   "metadata": {},
   "outputs": [
    {
     "name": "stdout",
     "output_type": "stream",
     "text": [
      "[2, 3, 4, 5, 6]\n"
     ]
    }
   ],
   "source": [
    "a = [1, 2, 3, 4, 5, 6, 7, 8, 9, 10] \n",
    "print (a[1:6]) # срез\n"
   ]
  },
  {
   "cell_type": "code",
   "execution_count": 2,
   "id": "02ef2711",
   "metadata": {},
   "outputs": [
    {
     "name": "stdout",
     "output_type": "stream",
     "text": [
      "[10, 9, 8, 7, 6, 5, 4, 3, 2, 1]\n"
     ]
    }
   ],
   "source": [
    "a.reverse() # симметрично переворачивает список.\n",
    "print(a) "
   ]
  },
  {
   "cell_type": "code",
   "execution_count": 3,
   "id": "0dc05b79",
   "metadata": {},
   "outputs": [
    {
     "name": "stdout",
     "output_type": "stream",
     "text": [
      "1; 2; 3; 4; 5; 6; 7; 8; 9; 10\n"
     ]
    }
   ],
   "source": [
    "a = [1, 2, 3, 4, 5, 6, 7, 8, 9, 10]\n",
    "print(*a, sep=\"; \") # sep - параметр вывода"
   ]
  },
  {
   "cell_type": "code",
   "execution_count": 4,
   "id": "064edc10",
   "metadata": {},
   "outputs": [
    {
     "name": "stdout",
     "output_type": "stream",
     "text": [
      "[(2, 'hello', 10), (4, 'my', 20), (6, 'friends', 30)]\n"
     ]
    }
   ],
   "source": [
    "a = [2, 4, 6, 8]\n",
    "b = ('hello','my','friends')\n",
    "c = [10, 20, 30]\n",
    "d = list(zip(a, b, c)) # операция zip\n",
    "print(d)"
   ]
  },
  {
   "cell_type": "code",
   "execution_count": 5,
   "id": "71912485",
   "metadata": {},
   "outputs": [
    {
     "name": "stdout",
     "output_type": "stream",
     "text": [
      "[0, 0, 0, 1, 1, 2]\n"
     ]
    }
   ],
   "source": [
    "s1 = (\"as000dfg11hjk2l\")\n",
    "s2 = [int(i) for i in s1 if \"0\"<=i<=\"9\"] # генератор списка 1\n",
    "print (s2)"
   ]
  },
  {
   "cell_type": "code",
   "execution_count": 6,
   "id": "9924714c",
   "metadata": {},
   "outputs": [
    {
     "data": {
      "text/plain": [
       "[25, 100, 225, 400]"
      ]
     },
     "execution_count": 6,
     "metadata": {},
     "output_type": "execute_result"
    }
   ],
   "source": [
    "[i**2 for i in range (1,21) if i%5==0] # генератор списка 2"
   ]
  },
  {
   "cell_type": "code",
   "execution_count": 7,
   "id": "acffad6c",
   "metadata": {},
   "outputs": [
    {
     "data": {
      "text/plain": [
       "{'Deutschland!': 6,\n",
       " 'Mein': 1,\n",
       " 'Herz': 1,\n",
       " 'in': 1,\n",
       " 'Flammen,': 1,\n",
       " 'Will': 1,\n",
       " 'dich': 1,\n",
       " 'lieben': 1,\n",
       " 'und': 3,\n",
       " 'verdammen.': 1,\n",
       " 'Dein': 1,\n",
       " 'Atem': 1,\n",
       " 'kalt,': 1,\n",
       " 'So': 1,\n",
       " 'jung,': 1,\n",
       " 'doch': 1,\n",
       " 'so': 1,\n",
       " 'alt.': 1,\n",
       " 'Deine': 1,\n",
       " 'Liebe': 2,\n",
       " 'Ist': 1,\n",
       " 'Fluch': 1,\n",
       " 'Segen.': 1,\n",
       " 'Meine': 1,\n",
       " 'Kann': 1,\n",
       " 'ich': 1,\n",
       " 'dir': 1,\n",
       " 'nicht': 1,\n",
       " 'geben.': 1}"
      ]
     },
     "execution_count": 7,
     "metadata": {},
     "output_type": "execute_result"
    }
   ],
   "source": [
    "f = open('file.txt', 'r') # число вхождений\n",
    "l = str(f.read())\n",
    "l = l.split()\n",
    "d = {}\n",
    "for word in l:\n",
    "    if word in d:\n",
    "        d[word]+= 1\n",
    "    else:\n",
    "        d[word] = 1\n",
    "f.close()\n",
    "d"
   ]
  },
  {
   "cell_type": "code",
   "execution_count": 8,
   "id": "adf8c89b",
   "metadata": {},
   "outputs": [
    {
     "name": "stdout",
     "output_type": "stream",
     "text": [
      "Я учусь в группе ПМИ-13 , на 2 курсе.\n"
     ]
    }
   ],
   "source": [
    "def func (group, year): #функция\n",
    "     return print('Я учусь в группе',  group, ', на',  year,  'курсе.')\n",
    "func (\"ПМИ-13\", 2)"
   ]
  },
  {
   "cell_type": "code",
   "execution_count": 9,
   "id": "c5d80363",
   "metadata": {},
   "outputs": [
    {
     "data": {
      "text/plain": [
       "14"
      ]
     },
     "execution_count": 9,
     "metadata": {},
     "output_type": "execute_result"
    }
   ],
   "source": [
    "func = lambda x, y: x % y #лямбда-функция\n",
    "func(35, 21)"
   ]
  },
  {
   "cell_type": "code",
   "execution_count": 10,
   "id": "68af012b",
   "metadata": {},
   "outputs": [
    {
     "name": "stdout",
     "output_type": "stream",
     "text": [
      "(0, 1)\n",
      "(0, 2)\n",
      "(0, 3)\n",
      "(0, 4)\n",
      "(1, 2)\n",
      "(1, 3)\n",
      "(1, 4)\n",
      "(2, 3)\n",
      "(2, 4)\n",
      "(3, 4)\n"
     ]
    }
   ],
   "source": [
    "execfile(\"mode.py\")\n",
    "\n",
    "comb(range(5),2) \n"
   ]
  },
  {
   "cell_type": "code",
   "execution_count": 11,
   "id": "ce61206b-dec9-4066-9d7c-e62312843ce2",
   "metadata": {},
   "outputs": [
    {
     "name": "stdout",
     "output_type": "stream",
     "text": [
      "KeyError: The specified key does not exist in the dictionary\n"
     ]
    }
   ],
   "source": [
    "try:\n",
    "    my_dict = {'key1': 'value1', 'key2': 'value2'}\n",
    "    x = my_dict['key3']  # Пытаемся обратиться к несуществующему ключу 'key3'\n",
    "except KeyError:\n",
    "    x = 'KeyError: The specified key does not exist in the dictionary'\n",
    "\n",
    "print(x)"
   ]
  },
  {
   "cell_type": "code",
   "execution_count": 12,
   "id": "27411290",
   "metadata": {},
   "outputs": [
    {
     "name": "stdout",
     "output_type": "stream",
     "text": [
      "1 1 2 3 5 8 13 21 34 55 89 144 233 377 610 987 1597 2584 4181 6765 "
     ]
    }
   ],
   "source": [
    "def fibonacci(n): #генератор чисел фибоначчи\n",
    "    fib1, fib2 = 0, 1\n",
    "    for i in range(n):\n",
    "        fib1, fib2 = fib2, fib1 + fib2\n",
    "        yield fib1\n",
    "\n",
    "for fib in fibonacci(20):\n",
    "    print(fib, end=' ')\n",
    "\n"
   ]
  },
  {
   "cell_type": "code",
   "execution_count": 18,
   "id": "2c1e00d0",
   "metadata": {},
   "outputs": [],
   "source": [
    "from tkinter import * #GUI\n",
    "from tkinter import ttk\n",
    "def click():\n",
    "    value = clicks.get()\n",
    "    clicks.set(value + 1)\n",
    "    if value % 2 == 0:\n",
    "        btn.pack(anchor = \"n\")\n",
    "    if value % 3 == 0:\n",
    "        btn.pack(anchor = \"w\")\n",
    "    if value % 5 == 0:\n",
    "        btn.pack(anchor = \"e\")\n",
    "    if value % 7 == 0:\n",
    "        btn.pack(anchor = \"s\")\n",
    "    if value % 10 == 0:\n",
    "        btn.pack(anchor = \"c\")\n",
    "\n",
    "i = Tk()\n",
    "i.title('GUI')\n",
    "i.geometry('300x300')\n",
    "\n",
    "clicks = IntVar(value=0)\n",
    "\n",
    "btn = ttk.Button(textvariable=clicks, command = click)\n",
    "btn_close = ttk.Button(text = 'Close', command = lambda: i.destroy())\n",
    "btn.pack(expand = True)\n",
    "btn_close.pack(anchor = \"ne\")\n",
    "\n",
    "i.mainloop()"
   ]
  },
  {
   "cell_type": "code",
   "execution_count": 19,
   "id": "02f9cf94",
   "metadata": {},
   "outputs": [
    {
     "name": "stdout",
     "output_type": "stream",
     "text": [
      "ab cd\n",
      "cdcd\n",
      "b\n"
     ]
    }
   ],
   "source": [
    "s = 'ab'\n",
    "s1 = 'cd'\n",
    "s2 = s + ' ' + s1\n",
    "print(s2)\n",
    "print(s1*2)\n",
    "print(s[1])"
   ]
  },
  {
   "cell_type": "code",
   "execution_count": 20,
   "id": "eea22411",
   "metadata": {},
   "outputs": [
    {
     "data": {
      "text/plain": [
       "'even'"
      ]
     },
     "execution_count": 20,
     "metadata": {},
     "output_type": "execute_result"
    }
   ],
   "source": [
    "class division:\n",
    "    def __init__(self, num):\n",
    "        self.num = num;\n",
    "        self.div = '';\n",
    "        \n",
    "    def even(self):\n",
    "        if self.num % 2 == 0:\n",
    "            self.div = 'even'\n",
    "        else:\n",
    "            self.div = 'odd'\n",
    "        \n",
    "        return self.div\n",
    "\n",
    "n = division(8)\n",
    "n.even()"
   ]
  },
  {
   "cell_type": "code",
   "execution_count": null,
   "id": "eb46604a",
   "metadata": {},
   "outputs": [],
   "source": []
  }
 ],
 "metadata": {
  "kernelspec": {
   "display_name": "Python 3 (ipykernel)",
   "language": "python",
   "name": "python3"
  },
  "language_info": {
   "codemirror_mode": {
    "name": "ipython",
    "version": 3
   },
   "file_extension": ".py",
   "mimetype": "text/x-python",
   "name": "python",
   "nbconvert_exporter": "python",
   "pygments_lexer": "ipython3",
   "version": "3.12.2"
  }
 },
 "nbformat": 4,
 "nbformat_minor": 5
}
