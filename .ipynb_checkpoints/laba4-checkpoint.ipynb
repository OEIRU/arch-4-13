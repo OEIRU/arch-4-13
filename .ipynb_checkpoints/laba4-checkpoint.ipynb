{
 "cells": [
  {
   "cell_type": "code",
   "execution_count": 1,
   "id": "5bf840b7",
   "metadata": {},
   "outputs": [
    {
     "ename": "ModuleNotFoundError",
     "evalue": "No module named 'bitstring'",
     "output_type": "error",
     "traceback": [
      "\u001b[1;31m---------------------------------------------------------------------------\u001b[0m",
      "\u001b[1;31mModuleNotFoundError\u001b[0m                       Traceback (most recent call last)",
      "Cell \u001b[1;32mIn[1], line 1\u001b[0m\n\u001b[1;32m----> 1\u001b[0m \u001b[38;5;28;01mfrom\u001b[39;00m \u001b[38;5;21;01mbitstring\u001b[39;00m \u001b[38;5;28;01mimport\u001b[39;00m BitArray\n\u001b[0;32m      2\u001b[0m \u001b[38;5;28;01mimport\u001b[39;00m \u001b[38;5;21;01mnumpy\u001b[39;00m \u001b[38;5;28;01mas\u001b[39;00m \u001b[38;5;21;01mnp\u001b[39;00m\n\u001b[0;32m      4\u001b[0m \u001b[38;5;28;01mdef\u001b[39;00m \u001b[38;5;21mhexToDec\u001b[39m(hex_num):\n",
      "\u001b[1;31mModuleNotFoundError\u001b[0m: No module named 'bitstring'"
     ]
    }
   ],
   "source": [
    "from bitstring import BitArray\n",
    "import numpy as np\n",
    "\n",
    "def hexToDec(hex_num):\n",
    "    hex_num = hex_num[::-1]\n",
    "    hex_num = hex_num.hex()\n",
    "    hex_num = '0x' + hex_num\n",
    "    hex_num = BitArray(hex=hex_num)\n",
    "    return hex_num.uint\n",
    "\n",
    "def find_names(file, dir_cluster):\n",
    "    while True:\n",
    "        curr_f = file.read(32)\n",
    "        if curr_f[0:1] == b'\\x00':\n",
    "            break\n",
    "        else:\n",
    "            print(curr_f[0:11])\n",
    "        \n",
    "file = open('boot622.IMA', 'rb')\n",
    "mft = file.read(512)\n",
    "\n",
    "#считывание mft\n",
    "sector = hexToDec(mft[11:13])\n",
    "claster = hexToDec(mft[13:14])\n",
    "copies = hexToDec(mft[16:17])\n",
    "objects = hexToDec(mft[17:19])\n",
    "num_of_sectors = hexToDec(mft[19:21])\n",
    "FAT_size = hexToDec(mft[22:24])\n",
    "print(\"Загрузочная запись:\", \"\\nсектор:\", sector, \"\\nкластер:\", claster, \"\\nкопии FAT:\", copies, \"\\nобъекты:\", objects, \"\\nразмер директории:\", num_of_sectors, \"\\nразмер FAT в секторах:\", FAT_size)\n",
    "\n",
    "#вычисление объема файлов\n",
    "FAT = file.read(sector * FAT_size)\n",
    "FATarray = np.frombuffer(FAT, dtype=np.uint8)\n",
    "nonzero = np.nonzero(FATarray)[0]\n",
    "file_volume = nonzero.size * claster * sector\n",
    "print(\"Объем, занимаемый файлами:\", file_volume)\n",
    "\n",
    "\n",
    "#вывод списка файлов\n",
    "FAT = file.read(sector * FAT_size)\n",
    "find_names(file, claster + copies * FAT_size)\n",
    "\n",
    "#поиск фалй scandiskini\n",
    "file.seek((claster + copies * FAT_size) * sector)\n",
    "file_name = b'SCANDISKINI'\n",
    "address = ''\n",
    "while True:\n",
    "        curr_f = file.read(32)\n",
    "        if curr_f[0:11] == file_name:\n",
    "            volume = hexToDec(curr_f[28:32])\n",
    "            address = curr_f[20:22][::-1] + curr_f[26:28][::-1]\n",
    "            address = address[::-1]\n",
    "            address = hexToDec(address)\n",
    "            print(curr_f[0:11], address, volume)\n",
    "            break\n",
    "#вывод содержимого файла\n",
    "file.seek((claster + copies * FAT_size * claster + int(objects * 32 / sector * claster) + address - 2) * sector)\n",
    "text = file.read(volume);\n",
    "print(\"Содержимое файла:\\n\",text)\n",
    "\n",
    "file.close()"
   ]
  },
  {
   "cell_type": "code",
   "execution_count": null,
   "id": "effeabea",
   "metadata": {},
   "outputs": [],
   "source": []
  }
 ],
 "metadata": {
  "kernelspec": {
   "display_name": "Python 3 (ipykernel)",
   "language": "python",
   "name": "python3"
  },
  "language_info": {
   "codemirror_mode": {
    "name": "ipython",
    "version": 3
   },
   "file_extension": ".py",
   "mimetype": "text/x-python",
   "name": "python",
   "nbconvert_exporter": "python",
   "pygments_lexer": "ipython3",
   "version": "3.11.2"
  }
 },
 "nbformat": 4,
 "nbformat_minor": 5
}
